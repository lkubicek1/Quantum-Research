{
 "cells": [
  {
   "cell_type": "code",
   "execution_count": 1,
   "id": "initial_id",
   "metadata": {
    "ExecuteTime": {
     "end_time": "2023-12-04T03:42:04.985234700Z",
     "start_time": "2023-12-04T03:42:04.916479Z"
    }
   },
   "outputs": [],
   "source": [
    "from qsim import *"
   ]
  },
  {
   "cell_type": "code",
   "execution_count": 2,
   "id": "1ca702dd0aba0168",
   "metadata": {
    "ExecuteTime": {
     "end_time": "2023-12-04T03:42:04.991000200Z",
     "start_time": "2023-12-04T03:42:04.987482Z"
    },
    "collapsed": false,
    "jupyter": {
     "outputs_hidden": false
    }
   },
   "outputs": [],
   "source": [
    "qc = QuantumCircuit(1)  # 1-qubit circuit"
   ]
  },
  {
   "cell_type": "code",
   "execution_count": 3,
   "id": "fa81e533297d6251",
   "metadata": {
    "ExecuteTime": {
     "end_time": "2023-12-04T03:42:05.002680600Z",
     "start_time": "2023-12-04T03:42:04.993000700Z"
    },
    "collapsed": false,
    "jupyter": {
     "outputs_hidden": false
    }
   },
   "outputs": [
    {
     "name": "stdout",
     "output_type": "stream",
     "text": [
      "0\n"
     ]
    }
   ],
   "source": [
    "initial_state = qc.measure();\n",
    "print(initial_state)"
   ]
  },
  {
   "cell_type": "code",
   "execution_count": 4,
   "id": "e733ca7e5649774b",
   "metadata": {
    "ExecuteTime": {
     "end_time": "2023-12-04T03:42:05.006200Z",
     "start_time": "2023-12-04T03:42:05.001902300Z"
    },
    "collapsed": false,
    "jupyter": {
     "outputs_hidden": false
    }
   },
   "outputs": [
    {
     "name": "stdout",
     "output_type": "stream",
     "text": [
      "1\n"
     ]
    }
   ],
   "source": [
    "qc.x([0])\n",
    "final_state = qc.measure()\n",
    "print(final_state)"
   ]
  }
 ],
 "metadata": {
  "kernelspec": {
   "display_name": "Python 3 (ipykernel)",
   "language": "python",
   "name": "python3"
  },
  "language_info": {
   "codemirror_mode": {
    "name": "ipython",
    "version": 3
   },
   "file_extension": ".py",
   "mimetype": "text/x-python",
   "name": "python",
   "nbconvert_exporter": "python",
   "pygments_lexer": "ipython3",
   "version": "3.11.6"
  }
 },
 "nbformat": 4,
 "nbformat_minor": 5
}
