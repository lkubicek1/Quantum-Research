{
 "cells": [
  {
   "cell_type": "code",
   "execution_count": 9,
   "id": "initial_id",
   "metadata": {
    "ExecuteTime": {
     "end_time": "2023-12-10T03:41:43.869167700Z",
     "start_time": "2023-12-10T03:41:43.844636800Z"
    }
   },
   "outputs": [],
   "source": [
    "from qsim import *"
   ]
  },
  {
   "cell_type": "code",
   "execution_count": 10,
   "id": "1ca702dd0aba0168",
   "metadata": {
    "collapsed": false,
    "ExecuteTime": {
     "end_time": "2023-12-10T03:41:43.880150300Z",
     "start_time": "2023-12-10T03:41:43.864147900Z"
    }
   },
   "outputs": [],
   "source": [
    "qc = QuantumCircuit(1)  # 1-qubit circuit"
   ]
  },
  {
   "cell_type": "code",
   "execution_count": 11,
   "id": "fa81e533297d6251",
   "metadata": {
    "collapsed": false,
    "ExecuteTime": {
     "end_time": "2023-12-10T03:41:43.901149Z",
     "start_time": "2023-12-10T03:41:43.877148400Z"
    }
   },
   "outputs": [
    {
     "name": "stdout",
     "output_type": "stream",
     "text": [
      "0\n"
     ]
    }
   ],
   "source": [
    "initial_state = qc.measure()\n",
    "print(initial_state)"
   ]
  },
  {
   "cell_type": "code",
   "execution_count": 12,
   "id": "e733ca7e5649774b",
   "metadata": {
    "collapsed": false,
    "ExecuteTime": {
     "end_time": "2023-12-10T03:41:43.909147400Z",
     "start_time": "2023-12-10T03:41:43.893148100Z"
    }
   },
   "outputs": [
    {
     "name": "stdout",
     "output_type": "stream",
     "text": [
      "1\n"
     ]
    }
   ],
   "source": [
    "qc.x([0])\n",
    "final_state = qc.measure()\n",
    "print(final_state)"
   ]
  }
 ],
 "metadata": {
  "kernelspec": {
   "display_name": "Python 3 (ipykernel)",
   "language": "python",
   "name": "python3"
  },
  "language_info": {
   "codemirror_mode": {
    "name": "ipython",
    "version": 3
   },
   "file_extension": ".py",
   "mimetype": "text/x-python",
   "name": "python",
   "nbconvert_exporter": "python",
   "pygments_lexer": "ipython3",
   "version": "3.11.6"
  }
 },
 "nbformat": 4,
 "nbformat_minor": 5
}
