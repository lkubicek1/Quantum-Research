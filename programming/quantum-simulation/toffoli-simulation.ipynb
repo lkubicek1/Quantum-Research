{
 "cells": [
  {
   "cell_type": "code",
   "execution_count": 229,
   "id": "initial_id",
   "metadata": {
    "collapsed": true,
    "ExecuteTime": {
     "end_time": "2023-12-03T02:08:37.510759100Z",
     "start_time": "2023-12-03T02:08:37.497756700Z"
    }
   },
   "outputs": [],
   "source": [
    "from qsim import *"
   ]
  },
  {
   "cell_type": "code",
   "execution_count": 230,
   "outputs": [
    {
     "name": "stdout",
     "output_type": "stream",
     "text": [
      "Measurement result: 1111\n"
     ]
    }
   ],
   "source": [
    "\n",
    "# Initialize a 3-qubit quantum circuit\n",
    "qc = QuantumCircuit(4)\n",
    "\n",
    "# Set the first qubit to superposition and entangle the second\n",
    "qc.h([0])\n",
    "qc.cx([0, 1])\n",
    "\n",
    "qc.toffoli([0, 1, 2])\n",
    "qc.cx([2,3])\n",
    "\n",
    "# Measure all qubits\n",
    "measurement_result = qc.measure()\n",
    "\n",
    "print(\"Measurement result:\", measurement_result)\n"
   ],
   "metadata": {
    "collapsed": false,
    "ExecuteTime": {
     "end_time": "2023-12-03T02:08:37.523756Z",
     "start_time": "2023-12-03T02:08:37.508756500Z"
    }
   },
   "id": "cb48a2788525721f"
  }
 ],
 "metadata": {
  "kernelspec": {
   "display_name": "Python 3",
   "language": "python",
   "name": "python3"
  },
  "language_info": {
   "codemirror_mode": {
    "name": "ipython",
    "version": 2
   },
   "file_extension": ".py",
   "mimetype": "text/x-python",
   "name": "python",
   "nbconvert_exporter": "python",
   "pygments_lexer": "ipython2",
   "version": "2.7.6"
  }
 },
 "nbformat": 4,
 "nbformat_minor": 5
}
