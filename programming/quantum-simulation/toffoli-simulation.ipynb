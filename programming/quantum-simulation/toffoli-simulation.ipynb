{
 "cells": [
  {
   "cell_type": "code",
   "execution_count": 23,
   "id": "initial_id",
   "metadata": {
    "collapsed": true,
    "ExecuteTime": {
     "end_time": "2023-12-03T01:09:10.714712100Z",
     "start_time": "2023-12-03T01:09:10.704710800Z"
    }
   },
   "outputs": [],
   "source": [
    "from qsim import *"
   ]
  },
  {
   "cell_type": "code",
   "execution_count": 24,
   "outputs": [
    {
     "name": "stdout",
     "output_type": "stream",
     "text": [
      "Measurement result: 000\n"
     ]
    }
   ],
   "source": [
    "\n",
    "# Initialize a 3-qubit quantum circuit\n",
    "qc = QuantumCircuit(3)\n",
    "\n",
    "# Set the first two qubits to |1⟩\n",
    "# qc.x([0])\n",
    "# qc.x([1])\n",
    "\n",
    "qc.toffoli([0, 1, 2])\n",
    "\n",
    "# Measure all qubits\n",
    "measurement_result = qc.measure()\n",
    "\n",
    "print(\"Measurement result:\", measurement_result)\n"
   ],
   "metadata": {
    "collapsed": false,
    "ExecuteTime": {
     "end_time": "2023-12-03T01:09:10.752542400Z",
     "start_time": "2023-12-03T01:09:10.713711600Z"
    }
   },
   "id": "cb48a2788525721f"
  }
 ],
 "metadata": {
  "kernelspec": {
   "display_name": "Python 3",
   "language": "python",
   "name": "python3"
  },
  "language_info": {
   "codemirror_mode": {
    "name": "ipython",
    "version": 2
   },
   "file_extension": ".py",
   "mimetype": "text/x-python",
   "name": "python",
   "nbconvert_exporter": "python",
   "pygments_lexer": "ipython2",
   "version": "2.7.6"
  }
 },
 "nbformat": 4,
 "nbformat_minor": 5
}
