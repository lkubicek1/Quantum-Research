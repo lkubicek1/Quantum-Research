{
 "cells": [
  {
   "cell_type": "code",
   "execution_count": null,
   "id": "initial_id",
   "metadata": {
    "collapsed": true,
    "is_executing": true
   },
   "outputs": [],
   "source": [
    "from itertools import product\n",
    "\n",
    "import matplotlib.pyplot as plt\n",
    "import matplotlib.table as tbl\n",
    "\n",
    "from qsim import *"
   ]
  },
  {
   "cell_type": "code",
   "execution_count": 4,
   "outputs": [
    {
     "data": {
      "text/plain": "<Figure size 500x300 with 1 Axes>",
      "image/png": "[encoded data removed]"
     },
     "metadata": {},
     "output_type": "display_data"
    }
   ],
   "source": [
    "def run_quantum_half_adder(bit1, bit2):\n",
    "    # Initialize circuit.\n",
    "    # The first and second qubits are the inputs\n",
    "    # The second qubit will be transfered to the SUM output\n",
    "    # The third qubit is the Carry\n",
    "    add_circuit = QuantumCircuit(3)\n",
    "\n",
    "    # Initialize inputs\n",
    "    if bit1 == 1:\n",
    "        add_circuit.x([0])\n",
    "\n",
    "    if bit2 == 1:\n",
    "        add_circuit.x([1])\n",
    "\n",
    "    # Calculate the carry first using a toffoli gate\n",
    "    add_circuit.toffoli([0, 1, 2])\n",
    "\n",
    "    # Calculate the sum using a CNOT gate, the second qubit now contains the sum result\n",
    "    add_circuit.cx([0, 1])\n",
    "\n",
    "    # Measure the output\n",
    "    output = add_circuit.measure()\n",
    "    sum = output[1]\n",
    "    carry = output[2]\n",
    "\n",
    "    return sum, carry\n",
    "\n",
    "\n",
    "# Define a function to convert quantum measurement to integer\n",
    "def measurement_to_int(measurement):\n",
    "    return int(measurement[::-1], 2)  # Reverse and convert from binary to integer\n",
    "\n",
    "\n",
    "results = {}\n",
    "for bit1, bit2 in product([0, 1], repeat=2):\n",
    "    sum_result, carry_result = run_quantum_half_adder(bit1, bit2)\n",
    "    results[(bit1, bit2)] = (measurement_to_int(sum_result), measurement_to_int(carry_result))\n",
    "\n",
    "# Prepare data for the table\n",
    "data = []\n",
    "columns = [\"Input A\", \"Input B\", \"Sum\", \"Carry\"]\n",
    "for (bit1, bit2), (sum_result, carry_result) in results.items():\n",
    "    data.append([bit1, bit2, sum_result, carry_result])\n",
    "\n",
    "# Create a figure and axis\n",
    "fig, ax = plt.subplots(figsize=(5, 3))\n",
    "ax.axis('tight')\n",
    "ax.axis('off')\n",
    "\n",
    "# Create the table\n",
    "the_table = tbl.table(ax, cellText=data, colLabels=columns, loc='center')\n",
    "\n",
    "# Display the table\n",
    "plt.show()\n"
   ],
   "metadata": {
    "collapsed": false,
    "ExecuteTime": {
     "end_time": "2023-12-03T04:34:34.934236800Z",
     "start_time": "2023-12-03T04:34:34.857242300Z"
    }
   },
   "id": "b990f02628f78d40"
  }
 ],
 "metadata": {
  "kernelspec": {
   "display_name": "Python 3",
   "language": "python",
   "name": "python3"
  },
  "language_info": {
   "codemirror_mode": {
    "name": "ipython",
    "version": 2
   },
   "file_extension": ".py",
   "mimetype": "text/x-python",
   "name": "python",
   "nbconvert_exporter": "python",
   "pygments_lexer": "ipython2",
   "version": "2.7.6"
  }
 },
 "nbformat": 4,
 "nbformat_minor": 5
}
