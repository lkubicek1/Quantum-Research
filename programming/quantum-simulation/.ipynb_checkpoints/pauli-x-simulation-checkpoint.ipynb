{
 "cells": [
  {
   "cell_type": "code",
   "execution_count": 1,
   "id": "initial_id",
   "metadata": {
    "collapsed": true,
    "ExecuteTime": {
     "end_time": "2023-12-04T03:42:04.985234700Z",
     "start_time": "2023-12-04T03:42:04.916479Z"
    }
   },
   "outputs": [],
   "source": [
    "from qsim import *"
   ]
  },
  {
   "cell_type": "code",
   "execution_count": 2,
   "outputs": [],
   "source": [
    "qc = QuantumCircuit(1)  # 1-qubit circuit"
   ],
   "metadata": {
    "collapsed": false,
    "ExecuteTime": {
     "end_time": "2023-12-04T03:42:04.991000200Z",
     "start_time": "2023-12-04T03:42:04.987482Z"
    }
   },
   "id": "1ca702dd0aba0168"
  },
  {
   "cell_type": "code",
   "execution_count": 3,
   "outputs": [
    {
     "name": "stdout",
     "output_type": "stream",
     "text": [
      "0\n"
     ]
    }
   ],
   "source": [
    "initial_state = qc.measure();\n",
    "print(initial_state)"
   ],
   "metadata": {
    "collapsed": false,
    "ExecuteTime": {
     "end_time": "2023-12-04T03:42:05.002680600Z",
     "start_time": "2023-12-04T03:42:04.993000700Z"
    }
   },
   "id": "fa81e533297d6251"
  },
  {
   "cell_type": "code",
   "execution_count": 4,
   "outputs": [
    {
     "name": "stdout",
     "output_type": "stream",
     "text": [
      "1\n"
     ]
    }
   ],
   "source": [
    "qc.x([0])\n",
    "final_state = qc.measure()\n",
    "print(final_state)"
   ],
   "metadata": {
    "collapsed": false,
    "ExecuteTime": {
     "end_time": "2023-12-04T03:42:05.006200Z",
     "start_time": "2023-12-04T03:42:05.001902300Z"
    }
   },
   "id": "e733ca7e5649774b"
  }
 ],
 "metadata": {
  "kernelspec": {
   "display_name": "Python 3",
   "language": "python",
   "name": "python3"
  },
  "language_info": {
   "codemirror_mode": {
    "name": "ipython",
    "version": 2
   },
   "file_extension": ".py",
   "mimetype": "text/x-python",
   "name": "python",
   "nbconvert_exporter": "python",
   "pygments_lexer": "ipython2",
   "version": "2.7.6"
  }
 },
 "nbformat": 4,
 "nbformat_minor": 5
}
