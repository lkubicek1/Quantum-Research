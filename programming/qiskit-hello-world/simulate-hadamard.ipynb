{
 "cells": [
  {
   "cell_type": "code",
   "execution_count": 16,
   "id": "1195c418e604bdce",
   "metadata": {
    "ExecuteTime": {
     "end_time": "2023-11-15T14:57:44.049100600Z",
     "start_time": "2023-11-15T14:57:44.020788500Z"
    },
    "collapsed": false,
    "jupyter": {
     "outputs_hidden": false
    }
   },
   "outputs": [],
   "source": [
    "from qiskit import *"
   ]
  },
  {
   "cell_type": "code",
   "execution_count": 17,
   "id": "953afd078594fbe4",
   "metadata": {
    "ExecuteTime": {
     "end_time": "2023-11-15T14:57:44.049100600Z",
     "start_time": "2023-11-15T14:57:44.026620700Z"
    },
    "collapsed": false,
    "jupyter": {
     "outputs_hidden": false
    }
   },
   "outputs": [],
   "source": [
    "qr = QuantumRegister(2)\n",
    "\n",
    "cr = ClassicalRegister(2)"
   ]
  },
  {
   "cell_type": "code",
   "execution_count": 18,
   "id": "58dbe1d6b636f101",
   "metadata": {
    "ExecuteTime": {
     "end_time": "2023-11-15T14:57:44.049100600Z",
     "start_time": "2023-11-15T14:57:44.029622200Z"
    },
    "collapsed": false,
    "jupyter": {
     "outputs_hidden": false
    }
   },
   "outputs": [],
   "source": [
    "circuit = QuantumCircuit(qr, cr)"
   ]
  },
  {
   "cell_type": "code",
   "execution_count": 19,
   "id": "c38366acd237524c",
   "metadata": {
    "ExecuteTime": {
     "end_time": "2023-11-15T14:57:44.092591200Z",
     "start_time": "2023-11-15T14:57:44.035098700Z"
    },
    "collapsed": false,
    "jupyter": {
     "outputs_hidden": false
    }
   },
   "outputs": [],
   "source": [
    "%matplotlib inline"
   ]
  },
  {
   "cell_type": "code",
   "execution_count": 20,
   "id": "1bee811be246b91c",
   "metadata": {
    "ExecuteTime": {
     "end_time": "2023-11-15T14:57:44.093617500Z",
     "start_time": "2023-11-15T14:57:44.040885400Z"
    },
    "collapsed": false,
    "jupyter": {
     "outputs_hidden": false
    }
   },
   "outputs": [
    {
     "data": {
      "text/html": [
       "<pre style=\"word-wrap: normal;white-space: pre;background: #fff0;line-height: 1.1;font-family: &quot;Courier New&quot;,Courier,monospace\">      \n",
       "q4_0: \n",
       "      \n",
       "q4_1: \n",
       "      \n",
       "c1: 2/\n",
       "      </pre>"
      ],
      "text/plain": [
       "      \n",
       "q4_0: \n",
       "      \n",
       "q4_1: \n",
       "      \n",
       "c1: 2/\n",
       "      "
      ]
     },
     "execution_count": 20,
     "metadata": {},
     "output_type": "execute_result"
    }
   ],
   "source": [
    "circuit.draw()"
   ]
  },
  {
   "cell_type": "code",
   "execution_count": 21,
   "id": "6f174888ca60ffa9",
   "metadata": {
    "ExecuteTime": {
     "end_time": "2023-11-15T14:57:44.094587100Z",
     "start_time": "2023-11-15T14:57:44.046581100Z"
    },
    "collapsed": false,
    "jupyter": {
     "outputs_hidden": false
    }
   },
   "outputs": [
    {
     "data": {
      "text/plain": [
       "<qiskit.circuit.instructionset.InstructionSet at 0x2d567c96200>"
      ]
     },
     "execution_count": 21,
     "metadata": {},
     "output_type": "execute_result"
    }
   ],
   "source": [
    "# Apply Hadamard Gate (H) to bring Qubit 0 into super position\n",
    "circuit.h(qr[0])"
   ]
  },
  {
   "cell_type": "code",
   "execution_count": 22,
   "id": "fa09649bdc1750cf",
   "metadata": {
    "ExecuteTime": {
     "end_time": "2023-11-15T14:57:44.115178Z",
     "start_time": "2023-11-15T14:57:44.051611900Z"
    },
    "collapsed": false,
    "jupyter": {
     "outputs_hidden": false
    }
   },
   "outputs": [
    {
     "data": {
      "image/png": "[encoded data removed]",
      "text/plain": [
       "<Figure size 222.116x284.278 with 1 Axes>"
      ]
     },
     "execution_count": 22,
     "metadata": {},
     "output_type": "execute_result"
    }
   ],
   "source": [
    "circuit.draw(output='mpl')"
   ]
  },
  {
   "cell_type": "code",
   "execution_count": 23,
   "id": "6fa65ae2889ff5a5",
   "metadata": {
    "ExecuteTime": {
     "end_time": "2023-11-15T14:57:44.157683Z",
     "start_time": "2023-11-15T14:57:44.116102800Z"
    },
    "collapsed": false,
    "jupyter": {
     "outputs_hidden": false
    }
   },
   "outputs": [
    {
     "data": {
      "text/plain": [
       "<qiskit.circuit.instructionset.InstructionSet at 0x2d567c864d0>"
      ]
     },
     "execution_count": 23,
     "metadata": {},
     "output_type": "execute_result"
    }
   ],
   "source": [
    "# Apply a controlled not (CNOT) to bring Qubit 0 and 1 into entanglement\n",
    "circuit.cx(qr[0], qr[1])"
   ]
  },
  {
   "cell_type": "code",
   "execution_count": 24,
   "id": "7bf248ffca920ea6",
   "metadata": {
    "ExecuteTime": {
     "end_time": "2023-11-15T14:57:44.250849200Z",
     "start_time": "2023-11-15T14:57:44.121628800Z"
    },
    "collapsed": false,
    "jupyter": {
     "outputs_hidden": false
    }
   },
   "outputs": [
    {
     "data": {
      "image/png": "[encoded data removed]",
      "text/plain": [
       "<Figure size 305.727x284.278 with 1 Axes>"
      ]
     },
     "execution_count": 24,
     "metadata": {},
     "output_type": "execute_result"
    }
   ],
   "source": [
    "circuit.draw(output='mpl')"
   ]
  },
  {
   "cell_type": "code",
   "execution_count": 25,
   "id": "ee1ff4e9950904e",
   "metadata": {
    "ExecuteTime": {
     "end_time": "2023-11-15T14:57:44.251848900Z",
     "start_time": "2023-11-15T14:57:44.196962300Z"
    },
    "collapsed": false,
    "jupyter": {
     "outputs_hidden": false
    }
   },
   "outputs": [
    {
     "data": {
      "text/plain": [
       "<qiskit.circuit.instructionset.InstructionSet at 0x2d567c855a0>"
      ]
     },
     "execution_count": 25,
     "metadata": {},
     "output_type": "execute_result"
    }
   ],
   "source": [
    "# Measure the qubits and store the probabilities into the classical registers\n",
    "circuit.measure(qr, cr)"
   ]
  },
  {
   "cell_type": "code",
   "execution_count": 26,
   "id": "4f9afd2ca7f76e74",
   "metadata": {
    "ExecuteTime": {
     "end_time": "2023-11-15T14:57:44.375774300Z",
     "start_time": "2023-11-15T14:57:44.200852600Z"
    },
    "collapsed": false,
    "jupyter": {
     "outputs_hidden": false
    }
   },
   "outputs": [
    {
     "data": {
      "image/png": "[encoded data removed]",
      "text/plain": [
       "<Figure size 472.949x284.278 with 1 Axes>"
      ]
     },
     "execution_count": 26,
     "metadata": {},
     "output_type": "execute_result"
    }
   ],
   "source": [
    "circuit.draw(output='mpl')"
   ]
  },
  {
   "cell_type": "code",
   "execution_count": 27,
   "id": "be8ae6e5731a3899",
   "metadata": {
    "ExecuteTime": {
     "end_time": "2023-11-15T14:57:44.375774300Z",
     "start_time": "2023-11-15T14:57:44.364441300Z"
    },
    "collapsed": false,
    "jupyter": {
     "outputs_hidden": false
    }
   },
   "outputs": [],
   "source": [
    "# Simulate the quantum circuit locally (Quantum Assembly Language)\n",
    "simulator = Aer.get_backend('qasm_simulator')"
   ]
  },
  {
   "cell_type": "code",
   "execution_count": 28,
   "id": "7d15cdfe67955bd6",
   "metadata": {
    "ExecuteTime": {
     "end_time": "2023-11-15T14:57:44.376781600Z",
     "start_time": "2023-11-15T14:57:44.368667300Z"
    },
    "collapsed": false,
    "jupyter": {
     "outputs_hidden": false
    }
   },
   "outputs": [],
   "source": [
    "result = execute(circuit, backend=simulator).result()"
   ]
  },
  {
   "cell_type": "code",
   "execution_count": 29,
   "id": "5a88e73139ffcfd6",
   "metadata": {
    "ExecuteTime": {
     "end_time": "2023-11-15T14:57:44.392387400Z",
     "start_time": "2023-11-15T14:57:44.380871800Z"
    },
    "collapsed": false,
    "jupyter": {
     "outputs_hidden": false
    }
   },
   "outputs": [],
   "source": [
    "from qiskit.tools.visualization import plot_histogram"
   ]
  },
  {
   "cell_type": "code",
   "execution_count": 30,
   "id": "76f35dd45b6d25d6",
   "metadata": {
    "ExecuteTime": {
     "end_time": "2023-11-15T14:57:44.444516900Z",
     "start_time": "2023-11-15T14:57:44.383387100Z"
    },
    "collapsed": false,
    "jupyter": {
     "outputs_hidden": false
    }
   },
   "outputs": [
    {
     "data": {
      "image/png": "[encoded data removed]",
      "text/plain": [
       "<Figure size 700x500 with 1 Axes>"
      ]
     },
     "execution_count": 30,
     "metadata": {},
     "output_type": "execute_result"
    }
   ],
   "source": [
    "plot_histogram(result.get_counts(circuit))"
   ]
  }
 ],
 "metadata": {
  "kernelspec": {
   "display_name": "Python 3 (ipykernel)",
   "language": "python",
   "name": "python3"
  },
  "language_info": {
   "codemirror_mode": {
    "name": "ipython",
    "version": 3
   },
   "file_extension": ".py",
   "mimetype": "text/x-python",
   "name": "python",
   "nbconvert_exporter": "python",
   "pygments_lexer": "ipython3",
   "version": "3.11.6"
  }
 },
 "nbformat": 4,
 "nbformat_minor": 5
}
