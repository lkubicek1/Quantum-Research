{
 "cells": [
  {
   "cell_type": "code",
   "execution_count": 1,
   "id": "1195c418e604bdce",
   "metadata": {
    "collapsed": false,
    "ExecuteTime": {
     "end_time": "2023-12-04T01:47:18.751844400Z",
     "start_time": "2023-12-04T01:47:17.690178700Z"
    }
   },
   "outputs": [],
   "source": [
    "import os\n",
    "from dotenv import load_dotenv\n",
    "from qiskit import *\n",
    "from qiskit_ibm_provider import IBMProvider"
   ]
  },
  {
   "cell_type": "code",
   "execution_count": 2,
   "outputs": [],
   "source": [
    "# Load environment variables from .env file\n",
    "load_dotenv()\n",
    "api_key = os.getenv('QISKIT_API_KEY')\n",
    "\n",
    "IBMProvider.save_account(token=api_key, overwrite=True)"
   ],
   "metadata": {
    "collapsed": false,
    "ExecuteTime": {
     "end_time": "2023-12-04T01:47:18.762266800Z",
     "start_time": "2023-12-04T01:47:18.752846100Z"
    }
   },
   "id": "bb036859201dbaae"
  },
  {
   "cell_type": "code",
   "execution_count": 3,
   "outputs": [
    {
     "data": {
      "text/plain": "[<IBMBackend('simulator_stabilizer')>,\n <IBMBackend('ibm_brisbane')>,\n <IBMBackend('ibm_kyoto')>,\n <IBMBackend('ibm_osaka')>,\n <IBMBackend('ibmq_qasm_simulator')>,\n <IBMBackend('simulator_extended_stabilizer')>,\n <IBMBackend('simulator_mps')>,\n <IBMBackend('simulator_statevector')>]"
     },
     "execution_count": 3,
     "metadata": {},
     "output_type": "execute_result"
    }
   ],
   "source": [
    "provider = IBMProvider()\n",
    "provider.backends()"
   ],
   "metadata": {
    "collapsed": false,
    "ExecuteTime": {
     "end_time": "2023-12-04T01:47:27.410904900Z",
     "start_time": "2023-12-04T01:47:18.759242500Z"
    }
   },
   "id": "d0c114b412a4bafb"
  },
  {
   "cell_type": "code",
   "execution_count": 4,
   "id": "953afd078594fbe4",
   "metadata": {
    "collapsed": false,
    "ExecuteTime": {
     "end_time": "2023-12-04T01:47:27.423354100Z",
     "start_time": "2023-12-04T01:47:27.411903300Z"
    }
   },
   "outputs": [],
   "source": [
    "qr = QuantumRegister(2)\n",
    "\n",
    "cr = ClassicalRegister(2)"
   ]
  },
  {
   "cell_type": "code",
   "execution_count": 5,
   "id": "58dbe1d6b636f101",
   "metadata": {
    "collapsed": false,
    "ExecuteTime": {
     "end_time": "2023-12-04T01:47:27.423354100Z",
     "start_time": "2023-12-04T01:47:27.419956200Z"
    }
   },
   "outputs": [],
   "source": [
    "circuit = QuantumCircuit(qr, cr)"
   ]
  },
  {
   "cell_type": "code",
   "execution_count": 6,
   "id": "c38366acd237524c",
   "metadata": {
    "collapsed": false,
    "ExecuteTime": {
     "end_time": "2023-12-04T01:47:28.592365300Z",
     "start_time": "2023-12-04T01:47:27.425356200Z"
    }
   },
   "outputs": [],
   "source": [
    "%matplotlib inline"
   ]
  },
  {
   "cell_type": "code",
   "execution_count": 7,
   "id": "1bee811be246b91c",
   "metadata": {
    "collapsed": false,
    "ExecuteTime": {
     "end_time": "2023-12-04T01:47:28.831409800Z",
     "start_time": "2023-12-04T01:47:28.593430Z"
    }
   },
   "outputs": [
    {
     "data": {
      "text/plain": "      \nq0_0: \n      \nq0_1: \n      \nc0: 2/\n      ",
      "text/html": "<pre style=\"word-wrap: normal;white-space: pre;background: #fff0;line-height: 1.1;font-family: &quot;Courier New&quot;,Courier,monospace\">      \nq0_0: \n      \nq0_1: \n      \nc0: 2/\n      </pre>"
     },
     "execution_count": 7,
     "metadata": {},
     "output_type": "execute_result"
    }
   ],
   "source": [
    "circuit.draw()"
   ]
  },
  {
   "cell_type": "code",
   "execution_count": 8,
   "id": "6f174888ca60ffa9",
   "metadata": {
    "collapsed": false,
    "ExecuteTime": {
     "end_time": "2023-12-04T01:47:28.843026100Z",
     "start_time": "2023-12-04T01:47:28.832050600Z"
    }
   },
   "outputs": [
    {
     "data": {
      "text/plain": "<qiskit.circuit.instructionset.InstructionSet at 0x1f9309cb910>"
     },
     "execution_count": 8,
     "metadata": {},
     "output_type": "execute_result"
    }
   ],
   "source": [
    "# Apply Hadamard Gate (H) to bring Qubit 0 into super position\n",
    "circuit.h(qr[0])"
   ]
  },
  {
   "cell_type": "code",
   "execution_count": 9,
   "id": "fa09649bdc1750cf",
   "metadata": {
    "collapsed": false,
    "ExecuteTime": {
     "end_time": "2023-12-04T01:47:29.133512900Z",
     "start_time": "2023-12-04T01:47:28.838027200Z"
    }
   },
   "outputs": [
    {
     "data": {
      "text/plain": "<Figure size 221.712x284.278 with 1 Axes>",
      "image/png": "[encoded data removed]"
     },
     "execution_count": 9,
     "metadata": {},
     "output_type": "execute_result"
    }
   ],
   "source": [
    "circuit.draw(output='mpl')"
   ]
  },
  {
   "cell_type": "code",
   "execution_count": 10,
   "id": "6fa65ae2889ff5a5",
   "metadata": {
    "collapsed": false,
    "ExecuteTime": {
     "end_time": "2023-12-04T01:47:29.134511800Z",
     "start_time": "2023-12-04T01:47:29.124378600Z"
    }
   },
   "outputs": [
    {
     "data": {
      "text/plain": "<qiskit.circuit.instructionset.InstructionSet at 0x1f93104e500>"
     },
     "execution_count": 10,
     "metadata": {},
     "output_type": "execute_result"
    }
   ],
   "source": [
    "# Apply a controlled not (CNOT) to bring Qubit 0 and 1 into entanglement\n",
    "circuit.cx(qr[0], qr[1])"
   ]
  },
  {
   "cell_type": "code",
   "execution_count": 11,
   "id": "7bf248ffca920ea6",
   "metadata": {
    "collapsed": false,
    "ExecuteTime": {
     "end_time": "2023-12-04T01:47:29.210042900Z",
     "start_time": "2023-12-04T01:47:29.128511800Z"
    }
   },
   "outputs": [
    {
     "data": {
      "text/plain": "<Figure size 305.323x284.278 with 1 Axes>",
      "image/png": "[encoded data removed]"
     },
     "execution_count": 11,
     "metadata": {},
     "output_type": "execute_result"
    }
   ],
   "source": [
    "circuit.draw(output='mpl')"
   ]
  },
  {
   "cell_type": "code",
   "execution_count": 12,
   "id": "ee1ff4e9950904e",
   "metadata": {
    "collapsed": false,
    "ExecuteTime": {
     "end_time": "2023-12-04T01:47:29.211042Z",
     "start_time": "2023-12-04T01:47:29.202799500Z"
    }
   },
   "outputs": [
    {
     "data": {
      "text/plain": "<qiskit.circuit.instructionset.InstructionSet at 0x1f93104eb30>"
     },
     "execution_count": 12,
     "metadata": {},
     "output_type": "execute_result"
    }
   ],
   "source": [
    "# Measure the qubits and store the probabilities into the classical registers\n",
    "circuit.measure(qr, cr)"
   ]
  },
  {
   "cell_type": "code",
   "execution_count": 13,
   "id": "4f9afd2ca7f76e74",
   "metadata": {
    "collapsed": false,
    "ExecuteTime": {
     "end_time": "2023-12-04T01:47:29.303314500Z",
     "start_time": "2023-12-04T01:47:29.209042Z"
    }
   },
   "outputs": [
    {
     "data": {
      "text/plain": "<Figure size 472.545x284.278 with 1 Axes>",
      "image/png": "[encoded data removed]"
     },
     "execution_count": 13,
     "metadata": {},
     "output_type": "execute_result"
    }
   ],
   "source": [
    "circuit.draw(output='mpl')"
   ]
  },
  {
   "cell_type": "code",
   "execution_count": 14,
   "id": "be8ae6e5731a3899",
   "metadata": {
    "collapsed": false,
    "ExecuteTime": {
     "end_time": "2023-12-04T01:47:29.314212800Z",
     "start_time": "2023-12-04T01:47:29.304315Z"
    }
   },
   "outputs": [
    {
     "data": {
      "text/plain": "<IBMBackend('ibm_brisbane')>"
     },
     "execution_count": 14,
     "metadata": {},
     "output_type": "execute_result"
    }
   ],
   "source": [
    "qcomp = provider.get_backend(\"ibm_brisbane\")\n",
    "qcomp"
   ]
  },
  {
   "cell_type": "code",
   "execution_count": 15,
   "id": "7d15cdfe67955bd6",
   "metadata": {
    "collapsed": false,
    "ExecuteTime": {
     "end_time": "2023-12-04T01:47:32.270874800Z",
     "start_time": "2023-12-04T01:47:29.310215600Z"
    }
   },
   "outputs": [],
   "source": [
    "job = execute(circuit, backend=qcomp)"
   ]
  },
  {
   "cell_type": "code",
   "execution_count": 16,
   "outputs": [],
   "source": [
    "from qiskit.tools.monitor import job_monitor"
   ],
   "metadata": {
    "collapsed": false,
    "ExecuteTime": {
     "end_time": "2023-12-04T01:47:32.277984900Z",
     "start_time": "2023-12-04T01:47:32.271906200Z"
    }
   },
   "id": "b9c3076d18088d6c"
  },
  {
   "cell_type": "code",
   "execution_count": 17,
   "outputs": [
    {
     "name": "stdout",
     "output_type": "stream",
     "text": [
      "Job Status: job has successfully run\n"
     ]
    }
   ],
   "source": [
    "job_monitor(job)"
   ],
   "metadata": {
    "collapsed": false,
    "ExecuteTime": {
     "end_time": "2023-12-04T02:25:42.251533400Z",
     "start_time": "2023-12-04T01:47:32.276981100Z"
    }
   },
   "id": "74841e0ee2100f61"
  },
  {
   "cell_type": "code",
   "execution_count": 18,
   "outputs": [],
   "source": [
    "result = job.result()"
   ],
   "metadata": {
    "collapsed": false,
    "ExecuteTime": {
     "end_time": "2023-12-04T02:25:42.540860300Z",
     "start_time": "2023-12-04T02:25:42.251533400Z"
    }
   },
   "id": "c8ba408c1e86d2b1"
  },
  {
   "cell_type": "code",
   "execution_count": 19,
   "id": "5a88e73139ffcfd6",
   "metadata": {
    "collapsed": false,
    "ExecuteTime": {
     "end_time": "2023-12-04T02:25:42.548616300Z",
     "start_time": "2023-12-04T02:25:42.541860600Z"
    }
   },
   "outputs": [],
   "source": [
    "from qiskit.tools.visualization import plot_histogram"
   ]
  },
  {
   "cell_type": "code",
   "execution_count": 20,
   "id": "76f35dd45b6d25d6",
   "metadata": {
    "collapsed": false,
    "ExecuteTime": {
     "end_time": "2023-12-04T02:25:42.623549100Z",
     "start_time": "2023-12-04T02:25:42.549617400Z"
    }
   },
   "outputs": [
    {
     "data": {
      "text/plain": "<Figure size 700x500 with 1 Axes>",
      "image/png": "[encoded data removed]"
     },
     "execution_count": 20,
     "metadata": {},
     "output_type": "execute_result"
    }
   ],
   "source": [
    "plot_histogram(result.get_counts(circuit))"
   ]
  }
 ],
 "metadata": {
  "kernelspec": {
   "display_name": "Python 3 (ipykernel)",
   "language": "python",
   "name": "python3"
  },
  "language_info": {
   "codemirror_mode": {
    "name": "ipython",
    "version": 3
   },
   "file_extension": ".py",
   "mimetype": "text/x-python",
   "name": "python",
   "nbconvert_exporter": "python",
   "pygments_lexer": "ipython3",
   "version": "3.11.6"
  }
 },
 "nbformat": 4,
 "nbformat_minor": 5
}
