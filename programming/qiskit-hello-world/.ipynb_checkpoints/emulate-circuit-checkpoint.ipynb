{
 "cells": [
  {
   "cell_type": "code",
   "execution_count": 15,
   "id": "initial_id",
   "metadata": {
    "collapsed": true,
    "ExecuteTime": {
     "end_time": "2023-10-11T16:58:20.625245600Z",
     "start_time": "2023-10-11T16:58:17.341093900Z"
    }
   },
   "outputs": [
    {
     "name": "stdout",
     "output_type": "stream",
     "text": [
      "Requirement already satisfied: anyio==4.0.0 in d:\\dev\\workspace\\github\\quantum-research\\programming\\qiskit-hello-world\\venv\\lib\\site-packages (from -r requirements.txt (line 1)) (4.0.0)\n",
      "Requirement already satisfied: argon2-cffi==23.1.0 in d:\\dev\\workspace\\github\\quantum-research\\programming\\qiskit-hello-world\\venv\\lib\\site-packages (from -r requirements.txt (line 2)) (23.1.0)\n",
      "Requirement already satisfied: argon2-cffi-bindings==21.2.0 in d:\\dev\\workspace\\github\\quantum-research\\programming\\qiskit-hello-world\\venv\\lib\\site-packages (from -r requirements.txt (line 3)) (21.2.0)\n",
      "Requirement already satisfied: arrow==1.3.0 in d:\\dev\\workspace\\github\\quantum-research\\programming\\qiskit-hello-world\\venv\\lib\\site-packages (from -r requirements.txt (line 4)) (1.3.0)\n",
      "Requirement already satisfied: asttokens==2.4.0 in d:\\dev\\workspace\\github\\quantum-research\\programming\\qiskit-hello-world\\venv\\lib\\site-packages (from -r requirements.txt (line 5)) (2.4.0)\n",
      "Requirement already satisfied: async-lru==2.0.4 in d:\\dev\\workspace\\github\\quantum-research\\programming\\qiskit-hello-world\\venv\\lib\\site-packages (from -r requirements.txt (line 6)) (2.0.4)\n",
      "Requirement already satisfied: attrs==23.1.0 in d:\\dev\\workspace\\github\\quantum-research\\programming\\qiskit-hello-world\\venv\\lib\\site-packages (from -r requirements.txt (line 7)) (23.1.0)\n",
      "Requirement already satisfied: Babel==2.13.0 in d:\\dev\\workspace\\github\\quantum-research\\programming\\qiskit-hello-world\\venv\\lib\\site-packages (from -r requirements.txt (line 8)) (2.13.0)\n",
      "Requirement already satisfied: backcall==0.2.0 in d:\\dev\\workspace\\github\\quantum-research\\programming\\qiskit-hello-world\\venv\\lib\\site-packages (from -r requirements.txt (line 9)) (0.2.0)\n",
      "Requirement already satisfied: beautifulsoup4==4.12.2 in d:\\dev\\workspace\\github\\quantum-research\\programming\\qiskit-hello-world\\venv\\lib\\site-packages (from -r requirements.txt (line 10)) (4.12.2)\n",
      "Requirement already satisfied: bleach==6.1.0 in d:\\dev\\workspace\\github\\quantum-research\\programming\\qiskit-hello-world\\venv\\lib\\site-packages (from -r requirements.txt (line 11)) (6.1.0)\n",
      "Requirement already satisfied: certifi==2023.7.22 in d:\\dev\\workspace\\github\\quantum-research\\programming\\qiskit-hello-world\\venv\\lib\\site-packages (from -r requirements.txt (line 12)) (2023.7.22)\n",
      "Requirement already satisfied: cffi==1.16.0 in d:\\dev\\workspace\\github\\quantum-research\\programming\\qiskit-hello-world\\venv\\lib\\site-packages (from -r requirements.txt (line 13)) (1.16.0)\n",
      "Requirement already satisfied: charset-normalizer==3.3.0 in d:\\dev\\workspace\\github\\quantum-research\\programming\\qiskit-hello-world\\venv\\lib\\site-packages (from -r requirements.txt (line 14)) (3.3.0)\n",
      "Requirement already satisfied: colorama==0.4.6 in d:\\dev\\workspace\\github\\quantum-research\\programming\\qiskit-hello-world\\venv\\lib\\site-packages (from -r requirements.txt (line 15)) (0.4.6)\n",
      "Requirement already satisfied: comm==0.1.4 in d:\\dev\\workspace\\github\\quantum-research\\programming\\qiskit-hello-world\\venv\\lib\\site-packages (from -r requirements.txt (line 16)) (0.1.4)\n",
      "Requirement already satisfied: contourpy==1.1.1 in d:\\dev\\workspace\\github\\quantum-research\\programming\\qiskit-hello-world\\venv\\lib\\site-packages (from -r requirements.txt (line 17)) (1.1.1)\n",
      "Requirement already satisfied: cycler==0.12.1 in d:\\dev\\workspace\\github\\quantum-research\\programming\\qiskit-hello-world\\venv\\lib\\site-packages (from -r requirements.txt (line 18)) (0.12.1)\n",
      "Requirement already satisfied: debugpy==1.8.0 in d:\\dev\\workspace\\github\\quantum-research\\programming\\qiskit-hello-world\\venv\\lib\\site-packages (from -r requirements.txt (line 19)) (1.8.0)\n",
      "Requirement already satisfied: decorator==5.1.1 in d:\\dev\\workspace\\github\\quantum-research\\programming\\qiskit-hello-world\\venv\\lib\\site-packages (from -r requirements.txt (line 20)) (5.1.1)\n",
      "Requirement already satisfied: defusedxml==0.7.1 in d:\\dev\\workspace\\github\\quantum-research\\programming\\qiskit-hello-world\\venv\\lib\\site-packages (from -r requirements.txt (line 21)) (0.7.1)\n",
      "Requirement already satisfied: dill==0.3.7 in d:\\dev\\workspace\\github\\quantum-research\\programming\\qiskit-hello-world\\venv\\lib\\site-packages (from -r requirements.txt (line 22)) (0.3.7)\n",
      "Requirement already satisfied: executing==2.0.0 in d:\\dev\\workspace\\github\\quantum-research\\programming\\qiskit-hello-world\\venv\\lib\\site-packages (from -r requirements.txt (line 23)) (2.0.0)\n",
      "Requirement already satisfied: fastjsonschema==2.18.1 in d:\\dev\\workspace\\github\\quantum-research\\programming\\qiskit-hello-world\\venv\\lib\\site-packages (from -r requirements.txt (line 24)) (2.18.1)\n",
      "Requirement already satisfied: fonttools==4.43.1 in d:\\dev\\workspace\\github\\quantum-research\\programming\\qiskit-hello-world\\venv\\lib\\site-packages (from -r requirements.txt (line 25)) (4.43.1)\n",
      "Requirement already satisfied: fqdn==1.5.1 in d:\\dev\\workspace\\github\\quantum-research\\programming\\qiskit-hello-world\\venv\\lib\\site-packages (from -r requirements.txt (line 26)) (1.5.1)\n",
      "Requirement already satisfied: idna==3.4 in d:\\dev\\workspace\\github\\quantum-research\\programming\\qiskit-hello-world\\venv\\lib\\site-packages (from -r requirements.txt (line 27)) (3.4)\n",
      "Requirement already satisfied: ipykernel==6.25.2 in d:\\dev\\workspace\\github\\quantum-research\\programming\\qiskit-hello-world\\venv\\lib\\site-packages (from -r requirements.txt (line 28)) (6.25.2)\n",
      "Requirement already satisfied: ipython==8.16.1 in d:\\dev\\workspace\\github\\quantum-research\\programming\\qiskit-hello-world\\venv\\lib\\site-packages (from -r requirements.txt (line 29)) (8.16.1)\n",
      "Requirement already satisfied: ipython-genutils==0.2.0 in d:\\dev\\workspace\\github\\quantum-research\\programming\\qiskit-hello-world\\venv\\lib\\site-packages (from -r requirements.txt (line 30)) (0.2.0)\n",
      "Requirement already satisfied: ipywidgets==8.1.1 in d:\\dev\\workspace\\github\\quantum-research\\programming\\qiskit-hello-world\\venv\\lib\\site-packages (from -r requirements.txt (line 31)) (8.1.1)\n",
      "Requirement already satisfied: isoduration==20.11.0 in d:\\dev\\workspace\\github\\quantum-research\\programming\\qiskit-hello-world\\venv\\lib\\site-packages (from -r requirements.txt (line 32)) (20.11.0)\n",
      "Requirement already satisfied: jedi==0.19.1 in d:\\dev\\workspace\\github\\quantum-research\\programming\\qiskit-hello-world\\venv\\lib\\site-packages (from -r requirements.txt (line 33)) (0.19.1)\n",
      "Requirement already satisfied: Jinja2==3.1.2 in d:\\dev\\workspace\\github\\quantum-research\\programming\\qiskit-hello-world\\venv\\lib\\site-packages (from -r requirements.txt (line 34)) (3.1.2)\n",
      "Requirement already satisfied: json5==0.9.14 in d:\\dev\\workspace\\github\\quantum-research\\programming\\qiskit-hello-world\\venv\\lib\\site-packages (from -r requirements.txt (line 35)) (0.9.14)\n",
      "Requirement already satisfied: jsonpointer==2.4 in d:\\dev\\workspace\\github\\quantum-research\\programming\\qiskit-hello-world\\venv\\lib\\site-packages (from -r requirements.txt (line 36)) (2.4)\n",
      "Requirement already satisfied: jsonschema==4.19.1 in d:\\dev\\workspace\\github\\quantum-research\\programming\\qiskit-hello-world\\venv\\lib\\site-packages (from -r requirements.txt (line 37)) (4.19.1)\n",
      "Requirement already satisfied: jsonschema-specifications==2023.7.1 in d:\\dev\\workspace\\github\\quantum-research\\programming\\qiskit-hello-world\\venv\\lib\\site-packages (from -r requirements.txt (line 38)) (2023.7.1)\n",
      "Requirement already satisfied: jupyter==1.0.0 in d:\\dev\\workspace\\github\\quantum-research\\programming\\qiskit-hello-world\\venv\\lib\\site-packages (from -r requirements.txt (line 39)) (1.0.0)\n",
      "Requirement already satisfied: jupyter-console==6.6.3 in d:\\dev\\workspace\\github\\quantum-research\\programming\\qiskit-hello-world\\venv\\lib\\site-packages (from -r requirements.txt (line 40)) (6.6.3)\n",
      "Requirement already satisfied: jupyter-events==0.7.0 in d:\\dev\\workspace\\github\\quantum-research\\programming\\qiskit-hello-world\\venv\\lib\\site-packages (from -r requirements.txt (line 41)) (0.7.0)\n",
      "Requirement already satisfied: jupyter-lsp==2.2.0 in d:\\dev\\workspace\\github\\quantum-research\\programming\\qiskit-hello-world\\venv\\lib\\site-packages (from -r requirements.txt (line 42)) (2.2.0)\n",
      "Requirement already satisfied: jupyter_client==8.4.0 in d:\\dev\\workspace\\github\\quantum-research\\programming\\qiskit-hello-world\\venv\\lib\\site-packages (from -r requirements.txt (line 43)) (8.4.0)\n",
      "Requirement already satisfied: jupyter_core==5.4.0 in d:\\dev\\workspace\\github\\quantum-research\\programming\\qiskit-hello-world\\venv\\lib\\site-packages (from -r requirements.txt (line 44)) (5.4.0)\n",
      "Requirement already satisfied: jupyter_server==2.7.3 in d:\\dev\\workspace\\github\\quantum-research\\programming\\qiskit-hello-world\\venv\\lib\\site-packages (from -r requirements.txt (line 45)) (2.7.3)\n",
      "Requirement already satisfied: jupyter_server_terminals==0.4.4 in d:\\dev\\workspace\\github\\quantum-research\\programming\\qiskit-hello-world\\venv\\lib\\site-packages (from -r requirements.txt (line 46)) (0.4.4)\n",
      "Requirement already satisfied: jupyterlab==4.0.6 in d:\\dev\\workspace\\github\\quantum-research\\programming\\qiskit-hello-world\\venv\\lib\\site-packages (from -r requirements.txt (line 47)) (4.0.6)\n",
      "Requirement already satisfied: jupyterlab-pygments==0.2.2 in d:\\dev\\workspace\\github\\quantum-research\\programming\\qiskit-hello-world\\venv\\lib\\site-packages (from -r requirements.txt (line 48)) (0.2.2)\n",
      "Requirement already satisfied: jupyterlab-widgets==3.0.9 in d:\\dev\\workspace\\github\\quantum-research\\programming\\qiskit-hello-world\\venv\\lib\\site-packages (from -r requirements.txt (line 49)) (3.0.9)\n",
      "Requirement already satisfied: jupyterlab_server==2.25.0 in d:\\dev\\workspace\\github\\quantum-research\\programming\\qiskit-hello-world\\venv\\lib\\site-packages (from -r requirements.txt (line 50)) (2.25.0)\n",
      "Requirement already satisfied: kiwisolver==1.4.5 in d:\\dev\\workspace\\github\\quantum-research\\programming\\qiskit-hello-world\\venv\\lib\\site-packages (from -r requirements.txt (line 51)) (1.4.5)\n",
      "Requirement already satisfied: MarkupSafe==2.1.3 in d:\\dev\\workspace\\github\\quantum-research\\programming\\qiskit-hello-world\\venv\\lib\\site-packages (from -r requirements.txt (line 52)) (2.1.3)\n",
      "Requirement already satisfied: matplotlib==3.8.0 in d:\\dev\\workspace\\github\\quantum-research\\programming\\qiskit-hello-world\\venv\\lib\\site-packages (from -r requirements.txt (line 53)) (3.8.0)\n",
      "Requirement already satisfied: matplotlib-inline==0.1.6 in d:\\dev\\workspace\\github\\quantum-research\\programming\\qiskit-hello-world\\venv\\lib\\site-packages (from -r requirements.txt (line 54)) (0.1.6)\n",
      "Requirement already satisfied: mistune==3.0.2 in d:\\dev\\workspace\\github\\quantum-research\\programming\\qiskit-hello-world\\venv\\lib\\site-packages (from -r requirements.txt (line 55)) (3.0.2)\n",
      "Requirement already satisfied: mpmath==1.3.0 in d:\\dev\\workspace\\github\\quantum-research\\programming\\qiskit-hello-world\\venv\\lib\\site-packages (from -r requirements.txt (line 56)) (1.3.0)\n",
      "Requirement already satisfied: nbclient==0.8.0 in d:\\dev\\workspace\\github\\quantum-research\\programming\\qiskit-hello-world\\venv\\lib\\site-packages (from -r requirements.txt (line 57)) (0.8.0)\n",
      "Requirement already satisfied: nbconvert==7.9.2 in d:\\dev\\workspace\\github\\quantum-research\\programming\\qiskit-hello-world\\venv\\lib\\site-packages (from -r requirements.txt (line 58)) (7.9.2)\n",
      "Requirement already satisfied: nbformat==5.9.2 in d:\\dev\\workspace\\github\\quantum-research\\programming\\qiskit-hello-world\\venv\\lib\\site-packages (from -r requirements.txt (line 59)) (5.9.2)\n",
      "Requirement already satisfied: nest-asyncio==1.5.8 in d:\\dev\\workspace\\github\\quantum-research\\programming\\qiskit-hello-world\\venv\\lib\\site-packages (from -r requirements.txt (line 60)) (1.5.8)\n",
      "Requirement already satisfied: notebook==7.0.4 in d:\\dev\\workspace\\github\\quantum-research\\programming\\qiskit-hello-world\\venv\\lib\\site-packages (from -r requirements.txt (line 61)) (7.0.4)\n",
      "Requirement already satisfied: notebook_shim==0.2.3 in d:\\dev\\workspace\\github\\quantum-research\\programming\\qiskit-hello-world\\venv\\lib\\site-packages (from -r requirements.txt (line 62)) (0.2.3)\n",
      "Requirement already satisfied: numpy==1.26.0 in d:\\dev\\workspace\\github\\quantum-research\\programming\\qiskit-hello-world\\venv\\lib\\site-packages (from -r requirements.txt (line 63)) (1.26.0)\n",
      "Requirement already satisfied: overrides==7.4.0 in d:\\dev\\workspace\\github\\quantum-research\\programming\\qiskit-hello-world\\venv\\lib\\site-packages (from -r requirements.txt (line 64)) (7.4.0)\n",
      "Requirement already satisfied: packaging==23.2 in d:\\dev\\workspace\\github\\quantum-research\\programming\\qiskit-hello-world\\venv\\lib\\site-packages (from -r requirements.txt (line 65)) (23.2)\n",
      "Requirement already satisfied: pandocfilters==1.5.0 in d:\\dev\\workspace\\github\\quantum-research\\programming\\qiskit-hello-world\\venv\\lib\\site-packages (from -r requirements.txt (line 66)) (1.5.0)\n",
      "Requirement already satisfied: parso==0.8.3 in d:\\dev\\workspace\\github\\quantum-research\\programming\\qiskit-hello-world\\venv\\lib\\site-packages (from -r requirements.txt (line 67)) (0.8.3)\n",
      "Requirement already satisfied: pbr==5.11.1 in d:\\dev\\workspace\\github\\quantum-research\\programming\\qiskit-hello-world\\venv\\lib\\site-packages (from -r requirements.txt (line 68)) (5.11.1)\n",
      "Requirement already satisfied: pickleshare==0.7.5 in d:\\dev\\workspace\\github\\quantum-research\\programming\\qiskit-hello-world\\venv\\lib\\site-packages (from -r requirements.txt (line 69)) (0.7.5)\n",
      "Requirement already satisfied: Pillow==10.0.1 in d:\\dev\\workspace\\github\\quantum-research\\programming\\qiskit-hello-world\\venv\\lib\\site-packages (from -r requirements.txt (line 70)) (10.0.1)\n",
      "Requirement already satisfied: platformdirs==3.11.0 in d:\\dev\\workspace\\github\\quantum-research\\programming\\qiskit-hello-world\\venv\\lib\\site-packages (from -r requirements.txt (line 71)) (3.11.0)\n",
      "Requirement already satisfied: ply==3.11 in d:\\dev\\workspace\\github\\quantum-research\\programming\\qiskit-hello-world\\venv\\lib\\site-packages (from -r requirements.txt (line 72)) (3.11)\n",
      "Requirement already satisfied: prometheus-client==0.17.1 in d:\\dev\\workspace\\github\\quantum-research\\programming\\qiskit-hello-world\\venv\\lib\\site-packages (from -r requirements.txt (line 73)) (0.17.1)\n",
      "Requirement already satisfied: prompt-toolkit==3.0.39 in d:\\dev\\workspace\\github\\quantum-research\\programming\\qiskit-hello-world\\venv\\lib\\site-packages (from -r requirements.txt (line 74)) (3.0.39)\n",
      "Requirement already satisfied: psutil==5.9.5 in d:\\dev\\workspace\\github\\quantum-research\\programming\\qiskit-hello-world\\venv\\lib\\site-packages (from -r requirements.txt (line 75)) (5.9.5)\n",
      "Requirement already satisfied: pure-eval==0.2.2 in d:\\dev\\workspace\\github\\quantum-research\\programming\\qiskit-hello-world\\venv\\lib\\site-packages (from -r requirements.txt (line 76)) (0.2.2)\n",
      "Requirement already satisfied: pycparser==2.21 in d:\\dev\\workspace\\github\\quantum-research\\programming\\qiskit-hello-world\\venv\\lib\\site-packages (from -r requirements.txt (line 77)) (2.21)\n",
      "Requirement already satisfied: Pygments==2.16.1 in d:\\dev\\workspace\\github\\quantum-research\\programming\\qiskit-hello-world\\venv\\lib\\site-packages (from -r requirements.txt (line 78)) (2.16.1)\n",
      "Requirement already satisfied: pylatexenc==2.10 in d:\\dev\\workspace\\github\\quantum-research\\programming\\qiskit-hello-world\\venv\\lib\\site-packages (from -r requirements.txt (line 79)) (2.10)\n",
      "Requirement already satisfied: pyparsing==3.1.1 in d:\\dev\\workspace\\github\\quantum-research\\programming\\qiskit-hello-world\\venv\\lib\\site-packages (from -r requirements.txt (line 80)) (3.1.1)\n",
      "Requirement already satisfied: python-dateutil==2.8.2 in d:\\dev\\workspace\\github\\quantum-research\\programming\\qiskit-hello-world\\venv\\lib\\site-packages (from -r requirements.txt (line 81)) (2.8.2)\n",
      "Requirement already satisfied: python-json-logger==2.0.7 in d:\\dev\\workspace\\github\\quantum-research\\programming\\qiskit-hello-world\\venv\\lib\\site-packages (from -r requirements.txt (line 82)) (2.0.7)\n",
      "Requirement already satisfied: pywin32==306 in d:\\dev\\workspace\\github\\quantum-research\\programming\\qiskit-hello-world\\venv\\lib\\site-packages (from -r requirements.txt (line 83)) (306)\n",
      "Requirement already satisfied: pywinpty==2.0.12 in d:\\dev\\workspace\\github\\quantum-research\\programming\\qiskit-hello-world\\venv\\lib\\site-packages (from -r requirements.txt (line 84)) (2.0.12)\n",
      "Requirement already satisfied: PyYAML==6.0.1 in d:\\dev\\workspace\\github\\quantum-research\\programming\\qiskit-hello-world\\venv\\lib\\site-packages (from -r requirements.txt (line 85)) (6.0.1)\n",
      "Requirement already satisfied: pyzmq==25.1.1 in d:\\dev\\workspace\\github\\quantum-research\\programming\\qiskit-hello-world\\venv\\lib\\site-packages (from -r requirements.txt (line 86)) (25.1.1)\n",
      "Requirement already satisfied: qiskit==0.44.2 in d:\\dev\\workspace\\github\\quantum-research\\programming\\qiskit-hello-world\\venv\\lib\\site-packages (from -r requirements.txt (line 87)) (0.44.2)\n",
      "Requirement already satisfied: qiskit-aer==0.12.2 in d:\\dev\\workspace\\github\\quantum-research\\programming\\qiskit-hello-world\\venv\\lib\\site-packages (from -r requirements.txt (line 88)) (0.12.2)\n",
      "Requirement already satisfied: qiskit-terra==0.25.2.1 in d:\\dev\\workspace\\github\\quantum-research\\programming\\qiskit-hello-world\\venv\\lib\\site-packages (from -r requirements.txt (line 89)) (0.25.2.1)\n",
      "Requirement already satisfied: qtconsole==5.4.4 in d:\\dev\\workspace\\github\\quantum-research\\programming\\qiskit-hello-world\\venv\\lib\\site-packages (from -r requirements.txt (line 90)) (5.4.4)\n",
      "Requirement already satisfied: QtPy==2.4.0 in d:\\dev\\workspace\\github\\quantum-research\\programming\\qiskit-hello-world\\venv\\lib\\site-packages (from -r requirements.txt (line 91)) (2.4.0)\n",
      "Requirement already satisfied: referencing==0.30.2 in d:\\dev\\workspace\\github\\quantum-research\\programming\\qiskit-hello-world\\venv\\lib\\site-packages (from -r requirements.txt (line 92)) (0.30.2)\n",
      "Requirement already satisfied: requests==2.31.0 in d:\\dev\\workspace\\github\\quantum-research\\programming\\qiskit-hello-world\\venv\\lib\\site-packages (from -r requirements.txt (line 93)) (2.31.0)\n",
      "Requirement already satisfied: rfc3339-validator==0.1.4 in d:\\dev\\workspace\\github\\quantum-research\\programming\\qiskit-hello-world\\venv\\lib\\site-packages (from -r requirements.txt (line 94)) (0.1.4)\n",
      "Requirement already satisfied: rfc3986-validator==0.1.1 in d:\\dev\\workspace\\github\\quantum-research\\programming\\qiskit-hello-world\\venv\\lib\\site-packages (from -r requirements.txt (line 95)) (0.1.1)\n",
      "Requirement already satisfied: rpds-py==0.10.4 in d:\\dev\\workspace\\github\\quantum-research\\programming\\qiskit-hello-world\\venv\\lib\\site-packages (from -r requirements.txt (line 96)) (0.10.4)\n",
      "Requirement already satisfied: rustworkx==0.13.2 in d:\\dev\\workspace\\github\\quantum-research\\programming\\qiskit-hello-world\\venv\\lib\\site-packages (from -r requirements.txt (line 97)) (0.13.2)\n",
      "Requirement already satisfied: scipy==1.11.3 in d:\\dev\\workspace\\github\\quantum-research\\programming\\qiskit-hello-world\\venv\\lib\\site-packages (from -r requirements.txt (line 98)) (1.11.3)\n",
      "Requirement already satisfied: Send2Trash==1.8.2 in d:\\dev\\workspace\\github\\quantum-research\\programming\\qiskit-hello-world\\venv\\lib\\site-packages (from -r requirements.txt (line 99)) (1.8.2)\n",
      "Requirement already satisfied: six==1.16.0 in d:\\dev\\workspace\\github\\quantum-research\\programming\\qiskit-hello-world\\venv\\lib\\site-packages (from -r requirements.txt (line 100)) (1.16.0)\n",
      "Requirement already satisfied: sniffio==1.3.0 in d:\\dev\\workspace\\github\\quantum-research\\programming\\qiskit-hello-world\\venv\\lib\\site-packages (from -r requirements.txt (line 101)) (1.3.0)\n",
      "Requirement already satisfied: soupsieve==2.5 in d:\\dev\\workspace\\github\\quantum-research\\programming\\qiskit-hello-world\\venv\\lib\\site-packages (from -r requirements.txt (line 102)) (2.5)\n",
      "Requirement already satisfied: stack-data==0.6.3 in d:\\dev\\workspace\\github\\quantum-research\\programming\\qiskit-hello-world\\venv\\lib\\site-packages (from -r requirements.txt (line 103)) (0.6.3)\n",
      "Requirement already satisfied: stevedore==5.1.0 in d:\\dev\\workspace\\github\\quantum-research\\programming\\qiskit-hello-world\\venv\\lib\\site-packages (from -r requirements.txt (line 104)) (5.1.0)\n",
      "Requirement already satisfied: sympy==1.12 in d:\\dev\\workspace\\github\\quantum-research\\programming\\qiskit-hello-world\\venv\\lib\\site-packages (from -r requirements.txt (line 105)) (1.12)\n",
      "Requirement already satisfied: terminado==0.17.1 in d:\\dev\\workspace\\github\\quantum-research\\programming\\qiskit-hello-world\\venv\\lib\\site-packages (from -r requirements.txt (line 106)) (0.17.1)\n",
      "Requirement already satisfied: tinycss2==1.2.1 in d:\\dev\\workspace\\github\\quantum-research\\programming\\qiskit-hello-world\\venv\\lib\\site-packages (from -r requirements.txt (line 107)) (1.2.1)\n",
      "Requirement already satisfied: tornado==6.3.3 in d:\\dev\\workspace\\github\\quantum-research\\programming\\qiskit-hello-world\\venv\\lib\\site-packages (from -r requirements.txt (line 108)) (6.3.3)\n",
      "Requirement already satisfied: traitlets==5.11.2 in d:\\dev\\workspace\\github\\quantum-research\\programming\\qiskit-hello-world\\venv\\lib\\site-packages (from -r requirements.txt (line 109)) (5.11.2)\n",
      "Requirement already satisfied: types-python-dateutil==2.8.19.14 in d:\\dev\\workspace\\github\\quantum-research\\programming\\qiskit-hello-world\\venv\\lib\\site-packages (from -r requirements.txt (line 110)) (2.8.19.14)\n",
      "Requirement already satisfied: uri-template==1.3.0 in d:\\dev\\workspace\\github\\quantum-research\\programming\\qiskit-hello-world\\venv\\lib\\site-packages (from -r requirements.txt (line 111)) (1.3.0)\n",
      "Requirement already satisfied: urllib3==2.0.6 in d:\\dev\\workspace\\github\\quantum-research\\programming\\qiskit-hello-world\\venv\\lib\\site-packages (from -r requirements.txt (line 112)) (2.0.6)\n",
      "Requirement already satisfied: wcwidth==0.2.8 in d:\\dev\\workspace\\github\\quantum-research\\programming\\qiskit-hello-world\\venv\\lib\\site-packages (from -r requirements.txt (line 113)) (0.2.8)\n",
      "Requirement already satisfied: webcolors==1.13 in d:\\dev\\workspace\\github\\quantum-research\\programming\\qiskit-hello-world\\venv\\lib\\site-packages (from -r requirements.txt (line 114)) (1.13)\n",
      "Requirement already satisfied: webencodings==0.5.1 in d:\\dev\\workspace\\github\\quantum-research\\programming\\qiskit-hello-world\\venv\\lib\\site-packages (from -r requirements.txt (line 115)) (0.5.1)\n",
      "Requirement already satisfied: websocket-client==1.6.4 in d:\\dev\\workspace\\github\\quantum-research\\programming\\qiskit-hello-world\\venv\\lib\\site-packages (from -r requirements.txt (line 116)) (1.6.4)\n",
      "Requirement already satisfied: widgetsnbextension==4.0.9 in d:\\dev\\workspace\\github\\quantum-research\\programming\\qiskit-hello-world\\venv\\lib\\site-packages (from -r requirements.txt (line 117)) (4.0.9)\n"
     ]
    }
   ],
   "source": [
    "!pip install -r requirements.txt"
   ]
  },
  {
   "cell_type": "code",
   "execution_count": 16,
   "outputs": [],
   "source": [
    "from qiskit import *"
   ],
   "metadata": {
    "collapsed": false,
    "ExecuteTime": {
     "end_time": "2023-10-11T16:58:20.632631900Z",
     "start_time": "2023-10-11T16:58:20.627716200Z"
    }
   },
   "id": "1195c418e604bdce"
  },
  {
   "cell_type": "code",
   "execution_count": 17,
   "outputs": [],
   "source": [
    "qr = QuantumRegister(2)\n",
    "\n",
    "cr = ClassicalRegister(2)"
   ],
   "metadata": {
    "collapsed": false,
    "ExecuteTime": {
     "end_time": "2023-10-11T16:58:20.638870300Z",
     "start_time": "2023-10-11T16:58:20.630256800Z"
    }
   },
   "id": "953afd078594fbe4"
  },
  {
   "cell_type": "code",
   "execution_count": 18,
   "outputs": [],
   "source": [
    "circuit = QuantumCircuit(qr, cr)"
   ],
   "metadata": {
    "collapsed": false,
    "ExecuteTime": {
     "end_time": "2023-10-11T16:58:20.645971400Z",
     "start_time": "2023-10-11T16:58:20.635140900Z"
    }
   },
   "id": "58dbe1d6b636f101"
  },
  {
   "cell_type": "code",
   "execution_count": 19,
   "outputs": [],
   "source": [
    "%matplotlib inline"
   ],
   "metadata": {
    "collapsed": false,
    "ExecuteTime": {
     "end_time": "2023-10-11T16:58:20.645971400Z",
     "start_time": "2023-10-11T16:58:20.641876800Z"
    }
   },
   "id": "c38366acd237524c"
  },
  {
   "cell_type": "code",
   "execution_count": 20,
   "outputs": [
    {
     "data": {
      "text/plain": "      \nq4_0: \n      \nq4_1: \n      \nc1: 2/\n      ",
      "text/html": "<pre style=\"word-wrap: normal;white-space: pre;background: #fff0;line-height: 1.1;font-family: &quot;Courier New&quot;,Courier,monospace\">      \nq4_0: \n      \nq4_1: \n      \nc1: 2/\n      </pre>"
     },
     "execution_count": 20,
     "metadata": {},
     "output_type": "execute_result"
    }
   ],
   "source": [
    "circuit.draw()"
   ],
   "metadata": {
    "collapsed": false,
    "ExecuteTime": {
     "end_time": "2023-10-11T16:58:20.654008900Z",
     "start_time": "2023-10-11T16:58:20.645971400Z"
    }
   },
   "id": "1bee811be246b91c"
  },
  {
   "cell_type": "code",
   "execution_count": 21,
   "outputs": [
    {
     "data": {
      "text/plain": "<qiskit.circuit.instructionset.InstructionSet at 0x1fa6c9a6260>"
     },
     "execution_count": 21,
     "metadata": {},
     "output_type": "execute_result"
    }
   ],
   "source": [
    "# Apply Hadamard Gate (H) to bring Qubit 0 into super position\n",
    "circuit.h(qr[0])"
   ],
   "metadata": {
    "collapsed": false,
    "ExecuteTime": {
     "end_time": "2023-10-11T16:58:20.683549900Z",
     "start_time": "2023-10-11T16:58:20.652064700Z"
    }
   },
   "id": "6f174888ca60ffa9"
  },
  {
   "cell_type": "code",
   "execution_count": 22,
   "outputs": [
    {
     "data": {
      "text/plain": "<Figure size 222.116x284.278 with 1 Axes>",
      "image/png": "[encoded data removed]"
     },
     "execution_count": 22,
     "metadata": {},
     "output_type": "execute_result"
    }
   ],
   "source": [
    "circuit.draw(output='mpl')"
   ],
   "metadata": {
    "collapsed": false,
    "ExecuteTime": {
     "end_time": "2023-10-11T16:58:20.753588Z",
     "start_time": "2023-10-11T16:58:20.657522Z"
    }
   },
   "id": "fa09649bdc1750cf"
  },
  {
   "cell_type": "code",
   "execution_count": 23,
   "outputs": [
    {
     "data": {
      "text/plain": "<qiskit.circuit.instructionset.InstructionSet at 0x1fa6c983fa0>"
     },
     "execution_count": 23,
     "metadata": {},
     "output_type": "execute_result"
    }
   ],
   "source": [
    "# Apply a controlled not (CNOT) to bring Qubit 0 and 1 into entanglement\n",
    "circuit.cx(qr[0], qr[1])"
   ],
   "metadata": {
    "collapsed": false,
    "ExecuteTime": {
     "end_time": "2023-10-11T16:58:20.754587900Z",
     "start_time": "2023-10-11T16:58:20.722718400Z"
    }
   },
   "id": "6fa65ae2889ff5a5"
  },
  {
   "cell_type": "code",
   "execution_count": 24,
   "outputs": [
    {
     "data": {
      "text/plain": "<Figure size 305.727x284.278 with 1 Axes>",
      "image/png": "[encoded data removed]"
     },
     "execution_count": 24,
     "metadata": {},
     "output_type": "execute_result"
    }
   ],
   "source": [
    "circuit.draw(output='mpl')"
   ],
   "metadata": {
    "collapsed": false,
    "ExecuteTime": {
     "end_time": "2023-10-11T16:58:20.835429300Z",
     "start_time": "2023-10-11T16:58:20.726557200Z"
    }
   },
   "id": "7bf248ffca920ea6"
  },
  {
   "cell_type": "code",
   "execution_count": 25,
   "outputs": [
    {
     "data": {
      "text/plain": "<qiskit.circuit.instructionset.InstructionSet at 0x1fa6c983670>"
     },
     "execution_count": 25,
     "metadata": {},
     "output_type": "execute_result"
    }
   ],
   "source": [
    "# Measure the qubits and store the probabilities into the classical registers\n",
    "circuit.measure(qr, cr)"
   ],
   "metadata": {
    "collapsed": false,
    "ExecuteTime": {
     "end_time": "2023-10-11T16:58:20.835429300Z",
     "start_time": "2023-10-11T16:58:20.796999700Z"
    }
   },
   "id": "ee1ff4e9950904e"
  },
  {
   "cell_type": "code",
   "execution_count": 26,
   "outputs": [
    {
     "data": {
      "text/plain": "<Figure size 472.949x284.278 with 1 Axes>",
      "image/png": "[encoded data removed]"
     },
     "execution_count": 26,
     "metadata": {},
     "output_type": "execute_result"
    }
   ],
   "source": [
    "circuit.draw(output='mpl')"
   ],
   "metadata": {
    "collapsed": false,
    "ExecuteTime": {
     "end_time": "2023-10-11T16:58:20.910826500Z",
     "start_time": "2023-10-11T16:58:20.801434Z"
    }
   },
   "id": "4f9afd2ca7f76e74"
  },
  {
   "cell_type": "code",
   "execution_count": 27,
   "outputs": [],
   "source": [
    "# Simulate the quantum circuit locally (Quantum Assembly Language)\n",
    "simulator = Aer.get_backend('qasm_simulator')"
   ],
   "metadata": {
    "collapsed": false,
    "ExecuteTime": {
     "end_time": "2023-10-11T16:58:20.910826500Z",
     "start_time": "2023-10-11T16:58:20.882592Z"
    }
   },
   "id": "be8ae6e5731a3899"
  },
  {
   "cell_type": "code",
   "execution_count": 28,
   "outputs": [],
   "source": [
    "result = execute(circuit, backend=simulator).result()"
   ],
   "metadata": {
    "collapsed": false,
    "ExecuteTime": {
     "end_time": "2023-10-11T16:58:20.910826500Z",
     "start_time": "2023-10-11T16:58:20.887135500Z"
    }
   },
   "id": "7d15cdfe67955bd6"
  },
  {
   "cell_type": "code",
   "execution_count": 29,
   "outputs": [],
   "source": [
    "from qiskit.tools.visualization import plot_histogram"
   ],
   "metadata": {
    "collapsed": false,
    "ExecuteTime": {
     "end_time": "2023-10-11T16:58:20.911823Z",
     "start_time": "2023-10-11T16:58:20.898162600Z"
    }
   },
   "id": "5a88e73139ffcfd6"
  },
  {
   "cell_type": "code",
   "execution_count": 30,
   "outputs": [
    {
     "data": {
      "text/plain": "<Figure size 700x500 with 1 Axes>",
      "image/png": "[encoded data removed]"
     },
     "execution_count": 30,
     "metadata": {},
     "output_type": "execute_result"
    }
   ],
   "source": [
    "plot_histogram(result.get_counts(circuit))"
   ],
   "metadata": {
    "collapsed": false,
    "ExecuteTime": {
     "end_time": "2023-10-11T16:58:20.966551Z",
     "start_time": "2023-10-11T16:58:20.905827300Z"
    }
   },
   "id": "76f35dd45b6d25d6"
  }
 ],
 "metadata": {
  "kernelspec": {
   "display_name": "Python 3",
   "language": "python",
   "name": "python3"
  },
  "language_info": {
   "codemirror_mode": {
    "name": "ipython",
    "version": 2
   },
   "file_extension": ".py",
   "mimetype": "text/x-python",
   "name": "python",
   "nbconvert_exporter": "python",
   "pygments_lexer": "ipython2",
   "version": "2.7.6"
  }
 },
 "nbformat": 4,
 "nbformat_minor": 5
}
