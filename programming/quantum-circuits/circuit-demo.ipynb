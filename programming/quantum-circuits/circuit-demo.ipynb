{
 "cells": [
  {
   "cell_type": "code",
   "execution_count": 17,
   "id": "initial_id",
   "metadata": {
    "collapsed": true,
    "ExecuteTime": {
     "end_time": "2023-12-02T18:18:01.500433500Z",
     "start_time": "2023-12-02T18:18:01.436709700Z"
    }
   },
   "outputs": [],
   "source": [
    "from qiskit import *\n",
    "\n",
    "%matplotlib inline"
   ]
  },
  {
   "cell_type": "code",
   "execution_count": 18,
   "outputs": [],
   "source": [
    "# Create quantum registers for different circuits\n",
    "qr_single = QuantumRegister(1, name=\"q\")\n",
    "qr_double = QuantumRegister(2, name=\"q\")\n",
    "qr_triple = QuantumRegister(3, name=\"q\")"
   ],
   "metadata": {
    "collapsed": false,
    "ExecuteTime": {
     "end_time": "2023-12-02T18:18:01.535444300Z",
     "start_time": "2023-12-02T18:18:01.442711100Z"
    }
   },
   "id": "b83fb3f562cd364d"
  },
  {
   "cell_type": "markdown",
   "source": [],
   "metadata": {
    "collapsed": false
   },
   "id": "3ee18039e58263db"
  },
  {
   "cell_type": "code",
   "execution_count": 19,
   "outputs": [
    {
     "data": {
      "text/plain": "<Figure size 185.453x117.056 with 1 Axes>",
      "image/png": "[encoded data removed]"
     },
     "execution_count": 19,
     "metadata": {},
     "output_type": "execute_result"
    }
   ],
   "source": [
    "# Pauli-X Gate\n",
    "qc_x = QuantumCircuit(qr_single)\n",
    "qc_x.x(qr_single[0])\n",
    "qc_x.draw(output='mpl')\n",
    "# circuit_drawer(qc_x, output='mpl', filename='/mnt/data/pauli_x_gate.png')"
   ],
   "metadata": {
    "collapsed": false,
    "ExecuteTime": {
     "end_time": "2023-12-02T18:18:01.573468300Z",
     "start_time": "2023-12-02T18:18:01.454713600Z"
    }
   },
   "id": "83706ddcdaebf3cf"
  },
  {
   "cell_type": "code",
   "execution_count": 20,
   "outputs": [
    {
     "data": {
      "text/plain": "<Figure size 185.453x117.056 with 1 Axes>",
      "image/png": "[encoded data removed]"
     },
     "execution_count": 20,
     "metadata": {},
     "output_type": "execute_result"
    }
   ],
   "source": [
    "# Pauli-Y Gate\n",
    "qc_y = QuantumCircuit(qr_single)\n",
    "qc_y.y(qr_single[0])\n",
    "qc_y.draw(output='mpl')\n",
    "# circuit_drawer(qc_x, output='mpl', filename='/mnt/data/pauli_x_gate.png')"
   ],
   "metadata": {
    "collapsed": false,
    "ExecuteTime": {
     "end_time": "2023-12-02T18:18:01.600996800Z",
     "start_time": "2023-12-02T18:18:01.516427100Z"
    }
   },
   "id": "b2be41e0160b9620"
  },
  {
   "cell_type": "code",
   "execution_count": 21,
   "outputs": [
    {
     "data": {
      "text/plain": "<Figure size 185.453x117.056 with 1 Axes>",
      "image/png": "[encoded data removed]"
     },
     "execution_count": 21,
     "metadata": {},
     "output_type": "execute_result"
    }
   ],
   "source": [
    "# Pauli-Z Gate\n",
    "qc_z = QuantumCircuit(qr_single)\n",
    "qc_z.z(qr_single[0])\n",
    "qc_z.draw(output='mpl')\n",
    "# circuit_drawer(qc_x, output='mpl', filename='/mnt/data/pauli_x_gate.png')"
   ],
   "metadata": {
    "collapsed": false,
    "ExecuteTime": {
     "end_time": "2023-12-02T18:18:01.658048300Z",
     "start_time": "2023-12-02T18:18:01.592004Z"
    }
   },
   "id": "3e05fa4990220eac"
  },
  {
   "cell_type": "code",
   "execution_count": 22,
   "outputs": [
    {
     "data": {
      "text/plain": "<Figure size 185.453x117.056 with 1 Axes>",
      "image/png": "[encoded data removed]"
     },
     "execution_count": 22,
     "metadata": {},
     "output_type": "execute_result"
    }
   ],
   "source": [
    "# Hadamard Gate\n",
    "qc_h = QuantumCircuit(qr_single)\n",
    "qc_h.h(qr_single[0])\n",
    "qc_h.draw(output='mpl')\n",
    "# circuit_drawer(qc_h, output='mpl', filename='/mnt/data/hadamard_gate.png')"
   ],
   "metadata": {
    "collapsed": false,
    "ExecuteTime": {
     "end_time": "2023-12-02T18:18:01.724031900Z",
     "start_time": "2023-12-02T18:18:01.654998100Z"
    }
   },
   "id": "ef2b02be929c7422"
  },
  {
   "cell_type": "code",
   "execution_count": 23,
   "outputs": [
    {
     "data": {
      "text/plain": "<Figure size 203.683x200.667 with 1 Axes>",
      "image/png": "[encoded data removed]"
     },
     "execution_count": 23,
     "metadata": {},
     "output_type": "execute_result"
    }
   ],
   "source": [
    "# CNOT Gate\n",
    "qc_cnot = QuantumCircuit(qr_double)\n",
    "qc_cnot.cx(qr_double[0], qr_double[1])\n",
    "qc_cnot.draw(output='mpl')\n",
    "# circuit_drawer(qc_cnot, output='mpl', filename='/mnt/data/cnot_gate.png')"
   ],
   "metadata": {
    "collapsed": false,
    "ExecuteTime": {
     "end_time": "2023-12-02T18:18:01.796797400Z",
     "start_time": "2023-12-02T18:18:01.718571200Z"
    }
   },
   "id": "c73aa9e77e943e2c"
  },
  {
   "cell_type": "code",
   "execution_count": 24,
   "outputs": [
    {
     "data": {
      "text/plain": "<Figure size 203.683x200.667 with 1 Axes>",
      "image/png": "[encoded data removed]"
     },
     "execution_count": 24,
     "metadata": {},
     "output_type": "execute_result"
    }
   ],
   "source": [
    "# SWAP Gate\n",
    "qc_swap = QuantumCircuit(qr_double)\n",
    "qc_swap.swap(qr_double[0], qr_double[1])\n",
    "qc_swap.draw(output='mpl')\n",
    "# circuit_drawer(qc_swap, output='mpl', filename='/mnt/data/swap_gate.png')"
   ],
   "metadata": {
    "collapsed": false,
    "ExecuteTime": {
     "end_time": "2023-12-02T18:18:01.866971800Z",
     "start_time": "2023-12-02T18:18:01.797739300Z"
    }
   },
   "id": "193622979e51170"
  },
  {
   "cell_type": "code",
   "execution_count": 25,
   "outputs": [
    {
     "data": {
      "text/plain": "<Figure size 203.885x284.278 with 1 Axes>",
      "image/png": "[encoded data removed]"
     },
     "execution_count": 25,
     "metadata": {},
     "output_type": "execute_result"
    }
   ],
   "source": [
    "# Toffoli Gate\n",
    "qc_toffoli = QuantumCircuit(qr_triple)\n",
    "qc_toffoli.ccx(qr_triple[0], qr_triple[1], qr_triple[2])\n",
    "qc_toffoli.draw(output='mpl')\n",
    "# circuit_drawer(qc_toffoli, output='mpl', filename='/mnt/data/toffoli_gate.png')"
   ],
   "metadata": {
    "collapsed": false,
    "ExecuteTime": {
     "end_time": "2023-12-02T18:18:01.952518Z",
     "start_time": "2023-12-02T18:18:01.858964400Z"
    }
   },
   "id": "fcb84f17704960b6"
  },
  {
   "cell_type": "code",
   "execution_count": 26,
   "outputs": [
    {
     "data": {
      "text/plain": "<Figure size 329.554x200.667 with 1 Axes>",
      "image/png": "[encoded data removed]"
     },
     "execution_count": 26,
     "metadata": {},
     "output_type": "execute_result"
    }
   ],
   "source": [
    "# Measurement\n",
    "qc_measure = QuantumCircuit(qr_single)\n",
    "qc_measure.measure_all()\n",
    "qc_measure.draw(output='mpl')\n",
    "# circuit_drawer(qc_measure, output='mpl', filename='/mnt/data/measurement.png')"
   ],
   "metadata": {
    "collapsed": false,
    "ExecuteTime": {
     "end_time": "2023-12-02T18:18:02.028877400Z",
     "start_time": "2023-12-02T18:18:01.952518Z"
    }
   },
   "id": "687d96a922b2a13a"
  }
 ],
 "metadata": {
  "kernelspec": {
   "display_name": "Python 3",
   "language": "python",
   "name": "python3"
  },
  "language_info": {
   "codemirror_mode": {
    "name": "ipython",
    "version": 2
   },
   "file_extension": ".py",
   "mimetype": "text/x-python",
   "name": "python",
   "nbconvert_exporter": "python",
   "pygments_lexer": "ipython2",
   "version": "2.7.6"
  }
 },
 "nbformat": 4,
 "nbformat_minor": 5
}
